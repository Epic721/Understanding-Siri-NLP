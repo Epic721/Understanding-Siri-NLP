{
  "nbformat": 4,
  "nbformat_minor": 0,
  "metadata": {
    "colab": {
      "provenance": [],
      "include_colab_link": true
    },
    "kernelspec": {
      "name": "python3",
      "display_name": "Python 3"
    },
    "accelerator": "GPU",
    "gpuClass": "standard",
    "widgets": {
      "application/vnd.jupyter.widget-state+json": {
        "29ceb6b865fd48cf8041bd259010dcc2": {
          "model_module": "@jupyter-widgets/controls",
          "model_name": "HBoxModel",
          "model_module_version": "1.5.0",
          "state": {
            "_dom_classes": [],
            "_model_module": "@jupyter-widgets/controls",
            "_model_module_version": "1.5.0",
            "_model_name": "HBoxModel",
            "_view_count": null,
            "_view_module": "@jupyter-widgets/controls",
            "_view_module_version": "1.5.0",
            "_view_name": "HBoxView",
            "box_style": "",
            "children": [
              "IPY_MODEL_438ff21986c14c32b55c8dd6006dfbcc",
              "IPY_MODEL_c7087a52d9194850bdb12d597eb3b1ef",
              "IPY_MODEL_5bba37def4d64f2f91803dcf8929d372"
            ],
            "layout": "IPY_MODEL_66500780f31447fb916d7fce8456d03a"
          }
        },
        "438ff21986c14c32b55c8dd6006dfbcc": {
          "model_module": "@jupyter-widgets/controls",
          "model_name": "HTMLModel",
          "model_module_version": "1.5.0",
          "state": {
            "_dom_classes": [],
            "_model_module": "@jupyter-widgets/controls",
            "_model_module_version": "1.5.0",
            "_model_name": "HTMLModel",
            "_view_count": null,
            "_view_module": "@jupyter-widgets/controls",
            "_view_module_version": "1.5.0",
            "_view_name": "HTMLView",
            "description": "",
            "description_tooltip": null,
            "layout": "IPY_MODEL_8a5347b27d314d2995f7fa3f02f5eefb",
            "placeholder": "​",
            "style": "IPY_MODEL_d3a414d37fd6440fa1c6bb0e1a181a66",
            "value": "Downloading: 100%"
          }
        },
        "c7087a52d9194850bdb12d597eb3b1ef": {
          "model_module": "@jupyter-widgets/controls",
          "model_name": "FloatProgressModel",
          "model_module_version": "1.5.0",
          "state": {
            "_dom_classes": [],
            "_model_module": "@jupyter-widgets/controls",
            "_model_module_version": "1.5.0",
            "_model_name": "FloatProgressModel",
            "_view_count": null,
            "_view_module": "@jupyter-widgets/controls",
            "_view_module_version": "1.5.0",
            "_view_name": "ProgressView",
            "bar_style": "success",
            "description": "",
            "description_tooltip": null,
            "layout": "IPY_MODEL_c94bd7b9a6444a23b1687ba82aec243a",
            "max": 213450,
            "min": 0,
            "orientation": "horizontal",
            "style": "IPY_MODEL_4ae66abc6cb94e8fad799ea262e7404e",
            "value": 213450
          }
        },
        "5bba37def4d64f2f91803dcf8929d372": {
          "model_module": "@jupyter-widgets/controls",
          "model_name": "HTMLModel",
          "model_module_version": "1.5.0",
          "state": {
            "_dom_classes": [],
            "_model_module": "@jupyter-widgets/controls",
            "_model_module_version": "1.5.0",
            "_model_name": "HTMLModel",
            "_view_count": null,
            "_view_module": "@jupyter-widgets/controls",
            "_view_module_version": "1.5.0",
            "_view_name": "HTMLView",
            "description": "",
            "description_tooltip": null,
            "layout": "IPY_MODEL_281cf1bd322e4f8298e7fb8b57dbace5",
            "placeholder": "​",
            "style": "IPY_MODEL_515a211e74e44536a77964ab2ac9a45f",
            "value": " 213k/213k [00:00&lt;00:00, 574kB/s]"
          }
        },
        "66500780f31447fb916d7fce8456d03a": {
          "model_module": "@jupyter-widgets/base",
          "model_name": "LayoutModel",
          "model_module_version": "1.2.0",
          "state": {
            "_model_module": "@jupyter-widgets/base",
            "_model_module_version": "1.2.0",
            "_model_name": "LayoutModel",
            "_view_count": null,
            "_view_module": "@jupyter-widgets/base",
            "_view_module_version": "1.2.0",
            "_view_name": "LayoutView",
            "align_content": null,
            "align_items": null,
            "align_self": null,
            "border": null,
            "bottom": null,
            "display": null,
            "flex": null,
            "flex_flow": null,
            "grid_area": null,
            "grid_auto_columns": null,
            "grid_auto_flow": null,
            "grid_auto_rows": null,
            "grid_column": null,
            "grid_gap": null,
            "grid_row": null,
            "grid_template_areas": null,
            "grid_template_columns": null,
            "grid_template_rows": null,
            "height": null,
            "justify_content": null,
            "justify_items": null,
            "left": null,
            "margin": null,
            "max_height": null,
            "max_width": null,
            "min_height": null,
            "min_width": null,
            "object_fit": null,
            "object_position": null,
            "order": null,
            "overflow": null,
            "overflow_x": null,
            "overflow_y": null,
            "padding": null,
            "right": null,
            "top": null,
            "visibility": null,
            "width": null
          }
        },
        "8a5347b27d314d2995f7fa3f02f5eefb": {
          "model_module": "@jupyter-widgets/base",
          "model_name": "LayoutModel",
          "model_module_version": "1.2.0",
          "state": {
            "_model_module": "@jupyter-widgets/base",
            "_model_module_version": "1.2.0",
            "_model_name": "LayoutModel",
            "_view_count": null,
            "_view_module": "@jupyter-widgets/base",
            "_view_module_version": "1.2.0",
            "_view_name": "LayoutView",
            "align_content": null,
            "align_items": null,
            "align_self": null,
            "border": null,
            "bottom": null,
            "display": null,
            "flex": null,
            "flex_flow": null,
            "grid_area": null,
            "grid_auto_columns": null,
            "grid_auto_flow": null,
            "grid_auto_rows": null,
            "grid_column": null,
            "grid_gap": null,
            "grid_row": null,
            "grid_template_areas": null,
            "grid_template_columns": null,
            "grid_template_rows": null,
            "height": null,
            "justify_content": null,
            "justify_items": null,
            "left": null,
            "margin": null,
            "max_height": null,
            "max_width": null,
            "min_height": null,
            "min_width": null,
            "object_fit": null,
            "object_position": null,
            "order": null,
            "overflow": null,
            "overflow_x": null,
            "overflow_y": null,
            "padding": null,
            "right": null,
            "top": null,
            "visibility": null,
            "width": null
          }
        },
        "d3a414d37fd6440fa1c6bb0e1a181a66": {
          "model_module": "@jupyter-widgets/controls",
          "model_name": "DescriptionStyleModel",
          "model_module_version": "1.5.0",
          "state": {
            "_model_module": "@jupyter-widgets/controls",
            "_model_module_version": "1.5.0",
            "_model_name": "DescriptionStyleModel",
            "_view_count": null,
            "_view_module": "@jupyter-widgets/base",
            "_view_module_version": "1.2.0",
            "_view_name": "StyleView",
            "description_width": ""
          }
        },
        "c94bd7b9a6444a23b1687ba82aec243a": {
          "model_module": "@jupyter-widgets/base",
          "model_name": "LayoutModel",
          "model_module_version": "1.2.0",
          "state": {
            "_model_module": "@jupyter-widgets/base",
            "_model_module_version": "1.2.0",
            "_model_name": "LayoutModel",
            "_view_count": null,
            "_view_module": "@jupyter-widgets/base",
            "_view_module_version": "1.2.0",
            "_view_name": "LayoutView",
            "align_content": null,
            "align_items": null,
            "align_self": null,
            "border": null,
            "bottom": null,
            "display": null,
            "flex": null,
            "flex_flow": null,
            "grid_area": null,
            "grid_auto_columns": null,
            "grid_auto_flow": null,
            "grid_auto_rows": null,
            "grid_column": null,
            "grid_gap": null,
            "grid_row": null,
            "grid_template_areas": null,
            "grid_template_columns": null,
            "grid_template_rows": null,
            "height": null,
            "justify_content": null,
            "justify_items": null,
            "left": null,
            "margin": null,
            "max_height": null,
            "max_width": null,
            "min_height": null,
            "min_width": null,
            "object_fit": null,
            "object_position": null,
            "order": null,
            "overflow": null,
            "overflow_x": null,
            "overflow_y": null,
            "padding": null,
            "right": null,
            "top": null,
            "visibility": null,
            "width": null
          }
        },
        "4ae66abc6cb94e8fad799ea262e7404e": {
          "model_module": "@jupyter-widgets/controls",
          "model_name": "ProgressStyleModel",
          "model_module_version": "1.5.0",
          "state": {
            "_model_module": "@jupyter-widgets/controls",
            "_model_module_version": "1.5.0",
            "_model_name": "ProgressStyleModel",
            "_view_count": null,
            "_view_module": "@jupyter-widgets/base",
            "_view_module_version": "1.2.0",
            "_view_name": "StyleView",
            "bar_color": null,
            "description_width": ""
          }
        },
        "281cf1bd322e4f8298e7fb8b57dbace5": {
          "model_module": "@jupyter-widgets/base",
          "model_name": "LayoutModel",
          "model_module_version": "1.2.0",
          "state": {
            "_model_module": "@jupyter-widgets/base",
            "_model_module_version": "1.2.0",
            "_model_name": "LayoutModel",
            "_view_count": null,
            "_view_module": "@jupyter-widgets/base",
            "_view_module_version": "1.2.0",
            "_view_name": "LayoutView",
            "align_content": null,
            "align_items": null,
            "align_self": null,
            "border": null,
            "bottom": null,
            "display": null,
            "flex": null,
            "flex_flow": null,
            "grid_area": null,
            "grid_auto_columns": null,
            "grid_auto_flow": null,
            "grid_auto_rows": null,
            "grid_column": null,
            "grid_gap": null,
            "grid_row": null,
            "grid_template_areas": null,
            "grid_template_columns": null,
            "grid_template_rows": null,
            "height": null,
            "justify_content": null,
            "justify_items": null,
            "left": null,
            "margin": null,
            "max_height": null,
            "max_width": null,
            "min_height": null,
            "min_width": null,
            "object_fit": null,
            "object_position": null,
            "order": null,
            "overflow": null,
            "overflow_x": null,
            "overflow_y": null,
            "padding": null,
            "right": null,
            "top": null,
            "visibility": null,
            "width": null
          }
        },
        "515a211e74e44536a77964ab2ac9a45f": {
          "model_module": "@jupyter-widgets/controls",
          "model_name": "DescriptionStyleModel",
          "model_module_version": "1.5.0",
          "state": {
            "_model_module": "@jupyter-widgets/controls",
            "_model_module_version": "1.5.0",
            "_model_name": "DescriptionStyleModel",
            "_view_count": null,
            "_view_module": "@jupyter-widgets/base",
            "_view_module_version": "1.2.0",
            "_view_name": "StyleView",
            "description_width": ""
          }
        },
        "fefb1420bf2943ea8ced8a667a908753": {
          "model_module": "@jupyter-widgets/controls",
          "model_name": "HBoxModel",
          "model_module_version": "1.5.0",
          "state": {
            "_dom_classes": [],
            "_model_module": "@jupyter-widgets/controls",
            "_model_module_version": "1.5.0",
            "_model_name": "HBoxModel",
            "_view_count": null,
            "_view_module": "@jupyter-widgets/controls",
            "_view_module_version": "1.5.0",
            "_view_name": "HBoxView",
            "box_style": "",
            "children": [
              "IPY_MODEL_d5e3c0e4703b4f31aff486ee227606a2",
              "IPY_MODEL_a7074c9207fb4c9dbfa5c3c18e49f02f",
              "IPY_MODEL_b134c0a6053f40ed9d8da4372a2b5a75"
            ],
            "layout": "IPY_MODEL_f9f6c4c48be645d98ed4ad899e44e98b"
          }
        },
        "d5e3c0e4703b4f31aff486ee227606a2": {
          "model_module": "@jupyter-widgets/controls",
          "model_name": "HTMLModel",
          "model_module_version": "1.5.0",
          "state": {
            "_dom_classes": [],
            "_model_module": "@jupyter-widgets/controls",
            "_model_module_version": "1.5.0",
            "_model_name": "HTMLModel",
            "_view_count": null,
            "_view_module": "@jupyter-widgets/controls",
            "_view_module_version": "1.5.0",
            "_view_name": "HTMLView",
            "description": "",
            "description_tooltip": null,
            "layout": "IPY_MODEL_1831d6a57037454db0634cec275e0263",
            "placeholder": "​",
            "style": "IPY_MODEL_d42bdb2af1fb459993772345cd439d17",
            "value": "Downloading: 100%"
          }
        },
        "a7074c9207fb4c9dbfa5c3c18e49f02f": {
          "model_module": "@jupyter-widgets/controls",
          "model_name": "FloatProgressModel",
          "model_module_version": "1.5.0",
          "state": {
            "_dom_classes": [],
            "_model_module": "@jupyter-widgets/controls",
            "_model_module_version": "1.5.0",
            "_model_name": "FloatProgressModel",
            "_view_count": null,
            "_view_module": "@jupyter-widgets/controls",
            "_view_module_version": "1.5.0",
            "_view_name": "ProgressView",
            "bar_style": "success",
            "description": "",
            "description_tooltip": null,
            "layout": "IPY_MODEL_bcd88dabd96b44ef91a78c692840f480",
            "max": 29,
            "min": 0,
            "orientation": "horizontal",
            "style": "IPY_MODEL_d0ee32e29a194ce98843836e1129af95",
            "value": 29
          }
        },
        "b134c0a6053f40ed9d8da4372a2b5a75": {
          "model_module": "@jupyter-widgets/controls",
          "model_name": "HTMLModel",
          "model_module_version": "1.5.0",
          "state": {
            "_dom_classes": [],
            "_model_module": "@jupyter-widgets/controls",
            "_model_module_version": "1.5.0",
            "_model_name": "HTMLModel",
            "_view_count": null,
            "_view_module": "@jupyter-widgets/controls",
            "_view_module_version": "1.5.0",
            "_view_name": "HTMLView",
            "description": "",
            "description_tooltip": null,
            "layout": "IPY_MODEL_7fde74f2caf9472b98ebf781fb155eb7",
            "placeholder": "​",
            "style": "IPY_MODEL_83a6277f95c144bcb7b74b2eafd02d64",
            "value": " 29.0/29.0 [00:00&lt;00:00, 880B/s]"
          }
        },
        "f9f6c4c48be645d98ed4ad899e44e98b": {
          "model_module": "@jupyter-widgets/base",
          "model_name": "LayoutModel",
          "model_module_version": "1.2.0",
          "state": {
            "_model_module": "@jupyter-widgets/base",
            "_model_module_version": "1.2.0",
            "_model_name": "LayoutModel",
            "_view_count": null,
            "_view_module": "@jupyter-widgets/base",
            "_view_module_version": "1.2.0",
            "_view_name": "LayoutView",
            "align_content": null,
            "align_items": null,
            "align_self": null,
            "border": null,
            "bottom": null,
            "display": null,
            "flex": null,
            "flex_flow": null,
            "grid_area": null,
            "grid_auto_columns": null,
            "grid_auto_flow": null,
            "grid_auto_rows": null,
            "grid_column": null,
            "grid_gap": null,
            "grid_row": null,
            "grid_template_areas": null,
            "grid_template_columns": null,
            "grid_template_rows": null,
            "height": null,
            "justify_content": null,
            "justify_items": null,
            "left": null,
            "margin": null,
            "max_height": null,
            "max_width": null,
            "min_height": null,
            "min_width": null,
            "object_fit": null,
            "object_position": null,
            "order": null,
            "overflow": null,
            "overflow_x": null,
            "overflow_y": null,
            "padding": null,
            "right": null,
            "top": null,
            "visibility": null,
            "width": null
          }
        },
        "1831d6a57037454db0634cec275e0263": {
          "model_module": "@jupyter-widgets/base",
          "model_name": "LayoutModel",
          "model_module_version": "1.2.0",
          "state": {
            "_model_module": "@jupyter-widgets/base",
            "_model_module_version": "1.2.0",
            "_model_name": "LayoutModel",
            "_view_count": null,
            "_view_module": "@jupyter-widgets/base",
            "_view_module_version": "1.2.0",
            "_view_name": "LayoutView",
            "align_content": null,
            "align_items": null,
            "align_self": null,
            "border": null,
            "bottom": null,
            "display": null,
            "flex": null,
            "flex_flow": null,
            "grid_area": null,
            "grid_auto_columns": null,
            "grid_auto_flow": null,
            "grid_auto_rows": null,
            "grid_column": null,
            "grid_gap": null,
            "grid_row": null,
            "grid_template_areas": null,
            "grid_template_columns": null,
            "grid_template_rows": null,
            "height": null,
            "justify_content": null,
            "justify_items": null,
            "left": null,
            "margin": null,
            "max_height": null,
            "max_width": null,
            "min_height": null,
            "min_width": null,
            "object_fit": null,
            "object_position": null,
            "order": null,
            "overflow": null,
            "overflow_x": null,
            "overflow_y": null,
            "padding": null,
            "right": null,
            "top": null,
            "visibility": null,
            "width": null
          }
        },
        "d42bdb2af1fb459993772345cd439d17": {
          "model_module": "@jupyter-widgets/controls",
          "model_name": "DescriptionStyleModel",
          "model_module_version": "1.5.0",
          "state": {
            "_model_module": "@jupyter-widgets/controls",
            "_model_module_version": "1.5.0",
            "_model_name": "DescriptionStyleModel",
            "_view_count": null,
            "_view_module": "@jupyter-widgets/base",
            "_view_module_version": "1.2.0",
            "_view_name": "StyleView",
            "description_width": ""
          }
        },
        "bcd88dabd96b44ef91a78c692840f480": {
          "model_module": "@jupyter-widgets/base",
          "model_name": "LayoutModel",
          "model_module_version": "1.2.0",
          "state": {
            "_model_module": "@jupyter-widgets/base",
            "_model_module_version": "1.2.0",
            "_model_name": "LayoutModel",
            "_view_count": null,
            "_view_module": "@jupyter-widgets/base",
            "_view_module_version": "1.2.0",
            "_view_name": "LayoutView",
            "align_content": null,
            "align_items": null,
            "align_self": null,
            "border": null,
            "bottom": null,
            "display": null,
            "flex": null,
            "flex_flow": null,
            "grid_area": null,
            "grid_auto_columns": null,
            "grid_auto_flow": null,
            "grid_auto_rows": null,
            "grid_column": null,
            "grid_gap": null,
            "grid_row": null,
            "grid_template_areas": null,
            "grid_template_columns": null,
            "grid_template_rows": null,
            "height": null,
            "justify_content": null,
            "justify_items": null,
            "left": null,
            "margin": null,
            "max_height": null,
            "max_width": null,
            "min_height": null,
            "min_width": null,
            "object_fit": null,
            "object_position": null,
            "order": null,
            "overflow": null,
            "overflow_x": null,
            "overflow_y": null,
            "padding": null,
            "right": null,
            "top": null,
            "visibility": null,
            "width": null
          }
        },
        "d0ee32e29a194ce98843836e1129af95": {
          "model_module": "@jupyter-widgets/controls",
          "model_name": "ProgressStyleModel",
          "model_module_version": "1.5.0",
          "state": {
            "_model_module": "@jupyter-widgets/controls",
            "_model_module_version": "1.5.0",
            "_model_name": "ProgressStyleModel",
            "_view_count": null,
            "_view_module": "@jupyter-widgets/base",
            "_view_module_version": "1.2.0",
            "_view_name": "StyleView",
            "bar_color": null,
            "description_width": ""
          }
        },
        "7fde74f2caf9472b98ebf781fb155eb7": {
          "model_module": "@jupyter-widgets/base",
          "model_name": "LayoutModel",
          "model_module_version": "1.2.0",
          "state": {
            "_model_module": "@jupyter-widgets/base",
            "_model_module_version": "1.2.0",
            "_model_name": "LayoutModel",
            "_view_count": null,
            "_view_module": "@jupyter-widgets/base",
            "_view_module_version": "1.2.0",
            "_view_name": "LayoutView",
            "align_content": null,
            "align_items": null,
            "align_self": null,
            "border": null,
            "bottom": null,
            "display": null,
            "flex": null,
            "flex_flow": null,
            "grid_area": null,
            "grid_auto_columns": null,
            "grid_auto_flow": null,
            "grid_auto_rows": null,
            "grid_column": null,
            "grid_gap": null,
            "grid_row": null,
            "grid_template_areas": null,
            "grid_template_columns": null,
            "grid_template_rows": null,
            "height": null,
            "justify_content": null,
            "justify_items": null,
            "left": null,
            "margin": null,
            "max_height": null,
            "max_width": null,
            "min_height": null,
            "min_width": null,
            "object_fit": null,
            "object_position": null,
            "order": null,
            "overflow": null,
            "overflow_x": null,
            "overflow_y": null,
            "padding": null,
            "right": null,
            "top": null,
            "visibility": null,
            "width": null
          }
        },
        "83a6277f95c144bcb7b74b2eafd02d64": {
          "model_module": "@jupyter-widgets/controls",
          "model_name": "DescriptionStyleModel",
          "model_module_version": "1.5.0",
          "state": {
            "_model_module": "@jupyter-widgets/controls",
            "_model_module_version": "1.5.0",
            "_model_name": "DescriptionStyleModel",
            "_view_count": null,
            "_view_module": "@jupyter-widgets/base",
            "_view_module_version": "1.2.0",
            "_view_name": "StyleView",
            "description_width": ""
          }
        },
        "b0adf1d2da29455aa8ae6a7b6b2648a2": {
          "model_module": "@jupyter-widgets/controls",
          "model_name": "HBoxModel",
          "model_module_version": "1.5.0",
          "state": {
            "_dom_classes": [],
            "_model_module": "@jupyter-widgets/controls",
            "_model_module_version": "1.5.0",
            "_model_name": "HBoxModel",
            "_view_count": null,
            "_view_module": "@jupyter-widgets/controls",
            "_view_module_version": "1.5.0",
            "_view_name": "HBoxView",
            "box_style": "",
            "children": [
              "IPY_MODEL_4cf2cb45d96d45c6962d91f01ff5996b",
              "IPY_MODEL_7d47fd4d78174770bb99cb9258d53c0f",
              "IPY_MODEL_452a85b03ba14026acfb93a5730321ee"
            ],
            "layout": "IPY_MODEL_a6fcda709b5349a999100a062f104268"
          }
        },
        "4cf2cb45d96d45c6962d91f01ff5996b": {
          "model_module": "@jupyter-widgets/controls",
          "model_name": "HTMLModel",
          "model_module_version": "1.5.0",
          "state": {
            "_dom_classes": [],
            "_model_module": "@jupyter-widgets/controls",
            "_model_module_version": "1.5.0",
            "_model_name": "HTMLModel",
            "_view_count": null,
            "_view_module": "@jupyter-widgets/controls",
            "_view_module_version": "1.5.0",
            "_view_name": "HTMLView",
            "description": "",
            "description_tooltip": null,
            "layout": "IPY_MODEL_684fef3e3f36447bb3dfbc6ad3b8cb1d",
            "placeholder": "​",
            "style": "IPY_MODEL_3f81a7c100214759850be4227695701e",
            "value": "Downloading: 100%"
          }
        },
        "7d47fd4d78174770bb99cb9258d53c0f": {
          "model_module": "@jupyter-widgets/controls",
          "model_name": "FloatProgressModel",
          "model_module_version": "1.5.0",
          "state": {
            "_dom_classes": [],
            "_model_module": "@jupyter-widgets/controls",
            "_model_module_version": "1.5.0",
            "_model_name": "FloatProgressModel",
            "_view_count": null,
            "_view_module": "@jupyter-widgets/controls",
            "_view_module_version": "1.5.0",
            "_view_name": "ProgressView",
            "bar_style": "success",
            "description": "",
            "description_tooltip": null,
            "layout": "IPY_MODEL_7c3014add5744217986891f1d25717fa",
            "max": 570,
            "min": 0,
            "orientation": "horizontal",
            "style": "IPY_MODEL_b80e886330ba455b91a9315bff7ff982",
            "value": 570
          }
        },
        "452a85b03ba14026acfb93a5730321ee": {
          "model_module": "@jupyter-widgets/controls",
          "model_name": "HTMLModel",
          "model_module_version": "1.5.0",
          "state": {
            "_dom_classes": [],
            "_model_module": "@jupyter-widgets/controls",
            "_model_module_version": "1.5.0",
            "_model_name": "HTMLModel",
            "_view_count": null,
            "_view_module": "@jupyter-widgets/controls",
            "_view_module_version": "1.5.0",
            "_view_name": "HTMLView",
            "description": "",
            "description_tooltip": null,
            "layout": "IPY_MODEL_b5c8d99ae32e4687a56322956eb2b719",
            "placeholder": "​",
            "style": "IPY_MODEL_63265d29e549497ba8318f9d5b0d2099",
            "value": " 570/570 [00:00&lt;00:00, 19.7kB/s]"
          }
        },
        "a6fcda709b5349a999100a062f104268": {
          "model_module": "@jupyter-widgets/base",
          "model_name": "LayoutModel",
          "model_module_version": "1.2.0",
          "state": {
            "_model_module": "@jupyter-widgets/base",
            "_model_module_version": "1.2.0",
            "_model_name": "LayoutModel",
            "_view_count": null,
            "_view_module": "@jupyter-widgets/base",
            "_view_module_version": "1.2.0",
            "_view_name": "LayoutView",
            "align_content": null,
            "align_items": null,
            "align_self": null,
            "border": null,
            "bottom": null,
            "display": null,
            "flex": null,
            "flex_flow": null,
            "grid_area": null,
            "grid_auto_columns": null,
            "grid_auto_flow": null,
            "grid_auto_rows": null,
            "grid_column": null,
            "grid_gap": null,
            "grid_row": null,
            "grid_template_areas": null,
            "grid_template_columns": null,
            "grid_template_rows": null,
            "height": null,
            "justify_content": null,
            "justify_items": null,
            "left": null,
            "margin": null,
            "max_height": null,
            "max_width": null,
            "min_height": null,
            "min_width": null,
            "object_fit": null,
            "object_position": null,
            "order": null,
            "overflow": null,
            "overflow_x": null,
            "overflow_y": null,
            "padding": null,
            "right": null,
            "top": null,
            "visibility": null,
            "width": null
          }
        },
        "684fef3e3f36447bb3dfbc6ad3b8cb1d": {
          "model_module": "@jupyter-widgets/base",
          "model_name": "LayoutModel",
          "model_module_version": "1.2.0",
          "state": {
            "_model_module": "@jupyter-widgets/base",
            "_model_module_version": "1.2.0",
            "_model_name": "LayoutModel",
            "_view_count": null,
            "_view_module": "@jupyter-widgets/base",
            "_view_module_version": "1.2.0",
            "_view_name": "LayoutView",
            "align_content": null,
            "align_items": null,
            "align_self": null,
            "border": null,
            "bottom": null,
            "display": null,
            "flex": null,
            "flex_flow": null,
            "grid_area": null,
            "grid_auto_columns": null,
            "grid_auto_flow": null,
            "grid_auto_rows": null,
            "grid_column": null,
            "grid_gap": null,
            "grid_row": null,
            "grid_template_areas": null,
            "grid_template_columns": null,
            "grid_template_rows": null,
            "height": null,
            "justify_content": null,
            "justify_items": null,
            "left": null,
            "margin": null,
            "max_height": null,
            "max_width": null,
            "min_height": null,
            "min_width": null,
            "object_fit": null,
            "object_position": null,
            "order": null,
            "overflow": null,
            "overflow_x": null,
            "overflow_y": null,
            "padding": null,
            "right": null,
            "top": null,
            "visibility": null,
            "width": null
          }
        },
        "3f81a7c100214759850be4227695701e": {
          "model_module": "@jupyter-widgets/controls",
          "model_name": "DescriptionStyleModel",
          "model_module_version": "1.5.0",
          "state": {
            "_model_module": "@jupyter-widgets/controls",
            "_model_module_version": "1.5.0",
            "_model_name": "DescriptionStyleModel",
            "_view_count": null,
            "_view_module": "@jupyter-widgets/base",
            "_view_module_version": "1.2.0",
            "_view_name": "StyleView",
            "description_width": ""
          }
        },
        "7c3014add5744217986891f1d25717fa": {
          "model_module": "@jupyter-widgets/base",
          "model_name": "LayoutModel",
          "model_module_version": "1.2.0",
          "state": {
            "_model_module": "@jupyter-widgets/base",
            "_model_module_version": "1.2.0",
            "_model_name": "LayoutModel",
            "_view_count": null,
            "_view_module": "@jupyter-widgets/base",
            "_view_module_version": "1.2.0",
            "_view_name": "LayoutView",
            "align_content": null,
            "align_items": null,
            "align_self": null,
            "border": null,
            "bottom": null,
            "display": null,
            "flex": null,
            "flex_flow": null,
            "grid_area": null,
            "grid_auto_columns": null,
            "grid_auto_flow": null,
            "grid_auto_rows": null,
            "grid_column": null,
            "grid_gap": null,
            "grid_row": null,
            "grid_template_areas": null,
            "grid_template_columns": null,
            "grid_template_rows": null,
            "height": null,
            "justify_content": null,
            "justify_items": null,
            "left": null,
            "margin": null,
            "max_height": null,
            "max_width": null,
            "min_height": null,
            "min_width": null,
            "object_fit": null,
            "object_position": null,
            "order": null,
            "overflow": null,
            "overflow_x": null,
            "overflow_y": null,
            "padding": null,
            "right": null,
            "top": null,
            "visibility": null,
            "width": null
          }
        },
        "b80e886330ba455b91a9315bff7ff982": {
          "model_module": "@jupyter-widgets/controls",
          "model_name": "ProgressStyleModel",
          "model_module_version": "1.5.0",
          "state": {
            "_model_module": "@jupyter-widgets/controls",
            "_model_module_version": "1.5.0",
            "_model_name": "ProgressStyleModel",
            "_view_count": null,
            "_view_module": "@jupyter-widgets/base",
            "_view_module_version": "1.2.0",
            "_view_name": "StyleView",
            "bar_color": null,
            "description_width": ""
          }
        },
        "b5c8d99ae32e4687a56322956eb2b719": {
          "model_module": "@jupyter-widgets/base",
          "model_name": "LayoutModel",
          "model_module_version": "1.2.0",
          "state": {
            "_model_module": "@jupyter-widgets/base",
            "_model_module_version": "1.2.0",
            "_model_name": "LayoutModel",
            "_view_count": null,
            "_view_module": "@jupyter-widgets/base",
            "_view_module_version": "1.2.0",
            "_view_name": "LayoutView",
            "align_content": null,
            "align_items": null,
            "align_self": null,
            "border": null,
            "bottom": null,
            "display": null,
            "flex": null,
            "flex_flow": null,
            "grid_area": null,
            "grid_auto_columns": null,
            "grid_auto_flow": null,
            "grid_auto_rows": null,
            "grid_column": null,
            "grid_gap": null,
            "grid_row": null,
            "grid_template_areas": null,
            "grid_template_columns": null,
            "grid_template_rows": null,
            "height": null,
            "justify_content": null,
            "justify_items": null,
            "left": null,
            "margin": null,
            "max_height": null,
            "max_width": null,
            "min_height": null,
            "min_width": null,
            "object_fit": null,
            "object_position": null,
            "order": null,
            "overflow": null,
            "overflow_x": null,
            "overflow_y": null,
            "padding": null,
            "right": null,
            "top": null,
            "visibility": null,
            "width": null
          }
        },
        "63265d29e549497ba8318f9d5b0d2099": {
          "model_module": "@jupyter-widgets/controls",
          "model_name": "DescriptionStyleModel",
          "model_module_version": "1.5.0",
          "state": {
            "_model_module": "@jupyter-widgets/controls",
            "_model_module_version": "1.5.0",
            "_model_name": "DescriptionStyleModel",
            "_view_count": null,
            "_view_module": "@jupyter-widgets/base",
            "_view_module_version": "1.2.0",
            "_view_name": "StyleView",
            "description_width": ""
          }
        },
        "28d0cd2f8c674570ac9871d921137ce4": {
          "model_module": "@jupyter-widgets/controls",
          "model_name": "HBoxModel",
          "model_module_version": "1.5.0",
          "state": {
            "_dom_classes": [],
            "_model_module": "@jupyter-widgets/controls",
            "_model_module_version": "1.5.0",
            "_model_name": "HBoxModel",
            "_view_count": null,
            "_view_module": "@jupyter-widgets/controls",
            "_view_module_version": "1.5.0",
            "_view_name": "HBoxView",
            "box_style": "",
            "children": [
              "IPY_MODEL_15d1430dafe646248b19b054708451a0",
              "IPY_MODEL_97617571af1c447080f0757b9da16e30",
              "IPY_MODEL_0094144d9ae8444c982cae46a7f0e3a2"
            ],
            "layout": "IPY_MODEL_990e3011fd4745a1b927e19f2d717545"
          }
        },
        "15d1430dafe646248b19b054708451a0": {
          "model_module": "@jupyter-widgets/controls",
          "model_name": "HTMLModel",
          "model_module_version": "1.5.0",
          "state": {
            "_dom_classes": [],
            "_model_module": "@jupyter-widgets/controls",
            "_model_module_version": "1.5.0",
            "_model_name": "HTMLModel",
            "_view_count": null,
            "_view_module": "@jupyter-widgets/controls",
            "_view_module_version": "1.5.0",
            "_view_name": "HTMLView",
            "description": "",
            "description_tooltip": null,
            "layout": "IPY_MODEL_32b58137533f41b694fbcc020a3592c5",
            "placeholder": "​",
            "style": "IPY_MODEL_a6668a6b391d41ce942fd3b195ab96ee",
            "value": "Downloading: 100%"
          }
        },
        "97617571af1c447080f0757b9da16e30": {
          "model_module": "@jupyter-widgets/controls",
          "model_name": "FloatProgressModel",
          "model_module_version": "1.5.0",
          "state": {
            "_dom_classes": [],
            "_model_module": "@jupyter-widgets/controls",
            "_model_module_version": "1.5.0",
            "_model_name": "FloatProgressModel",
            "_view_count": null,
            "_view_module": "@jupyter-widgets/controls",
            "_view_module_version": "1.5.0",
            "_view_name": "ProgressView",
            "bar_style": "success",
            "description": "",
            "description_tooltip": null,
            "layout": "IPY_MODEL_200c91f45cbe42a2bef05ce1cd8d47e6",
            "max": 526681800,
            "min": 0,
            "orientation": "horizontal",
            "style": "IPY_MODEL_02d0cf0447a14aeb949b9d5a98251527",
            "value": 526681800
          }
        },
        "0094144d9ae8444c982cae46a7f0e3a2": {
          "model_module": "@jupyter-widgets/controls",
          "model_name": "HTMLModel",
          "model_module_version": "1.5.0",
          "state": {
            "_dom_classes": [],
            "_model_module": "@jupyter-widgets/controls",
            "_model_module_version": "1.5.0",
            "_model_name": "HTMLModel",
            "_view_count": null,
            "_view_module": "@jupyter-widgets/controls",
            "_view_module_version": "1.5.0",
            "_view_name": "HTMLView",
            "description": "",
            "description_tooltip": null,
            "layout": "IPY_MODEL_354cace83d8143d3884db7dfc6501910",
            "placeholder": "​",
            "style": "IPY_MODEL_2567c36752ba4a65a327dff0f5c43668",
            "value": " 527M/527M [00:08&lt;00:00, 65.7MB/s]"
          }
        },
        "990e3011fd4745a1b927e19f2d717545": {
          "model_module": "@jupyter-widgets/base",
          "model_name": "LayoutModel",
          "model_module_version": "1.2.0",
          "state": {
            "_model_module": "@jupyter-widgets/base",
            "_model_module_version": "1.2.0",
            "_model_name": "LayoutModel",
            "_view_count": null,
            "_view_module": "@jupyter-widgets/base",
            "_view_module_version": "1.2.0",
            "_view_name": "LayoutView",
            "align_content": null,
            "align_items": null,
            "align_self": null,
            "border": null,
            "bottom": null,
            "display": null,
            "flex": null,
            "flex_flow": null,
            "grid_area": null,
            "grid_auto_columns": null,
            "grid_auto_flow": null,
            "grid_auto_rows": null,
            "grid_column": null,
            "grid_gap": null,
            "grid_row": null,
            "grid_template_areas": null,
            "grid_template_columns": null,
            "grid_template_rows": null,
            "height": null,
            "justify_content": null,
            "justify_items": null,
            "left": null,
            "margin": null,
            "max_height": null,
            "max_width": null,
            "min_height": null,
            "min_width": null,
            "object_fit": null,
            "object_position": null,
            "order": null,
            "overflow": null,
            "overflow_x": null,
            "overflow_y": null,
            "padding": null,
            "right": null,
            "top": null,
            "visibility": null,
            "width": null
          }
        },
        "32b58137533f41b694fbcc020a3592c5": {
          "model_module": "@jupyter-widgets/base",
          "model_name": "LayoutModel",
          "model_module_version": "1.2.0",
          "state": {
            "_model_module": "@jupyter-widgets/base",
            "_model_module_version": "1.2.0",
            "_model_name": "LayoutModel",
            "_view_count": null,
            "_view_module": "@jupyter-widgets/base",
            "_view_module_version": "1.2.0",
            "_view_name": "LayoutView",
            "align_content": null,
            "align_items": null,
            "align_self": null,
            "border": null,
            "bottom": null,
            "display": null,
            "flex": null,
            "flex_flow": null,
            "grid_area": null,
            "grid_auto_columns": null,
            "grid_auto_flow": null,
            "grid_auto_rows": null,
            "grid_column": null,
            "grid_gap": null,
            "grid_row": null,
            "grid_template_areas": null,
            "grid_template_columns": null,
            "grid_template_rows": null,
            "height": null,
            "justify_content": null,
            "justify_items": null,
            "left": null,
            "margin": null,
            "max_height": null,
            "max_width": null,
            "min_height": null,
            "min_width": null,
            "object_fit": null,
            "object_position": null,
            "order": null,
            "overflow": null,
            "overflow_x": null,
            "overflow_y": null,
            "padding": null,
            "right": null,
            "top": null,
            "visibility": null,
            "width": null
          }
        },
        "a6668a6b391d41ce942fd3b195ab96ee": {
          "model_module": "@jupyter-widgets/controls",
          "model_name": "DescriptionStyleModel",
          "model_module_version": "1.5.0",
          "state": {
            "_model_module": "@jupyter-widgets/controls",
            "_model_module_version": "1.5.0",
            "_model_name": "DescriptionStyleModel",
            "_view_count": null,
            "_view_module": "@jupyter-widgets/base",
            "_view_module_version": "1.2.0",
            "_view_name": "StyleView",
            "description_width": ""
          }
        },
        "200c91f45cbe42a2bef05ce1cd8d47e6": {
          "model_module": "@jupyter-widgets/base",
          "model_name": "LayoutModel",
          "model_module_version": "1.2.0",
          "state": {
            "_model_module": "@jupyter-widgets/base",
            "_model_module_version": "1.2.0",
            "_model_name": "LayoutModel",
            "_view_count": null,
            "_view_module": "@jupyter-widgets/base",
            "_view_module_version": "1.2.0",
            "_view_name": "LayoutView",
            "align_content": null,
            "align_items": null,
            "align_self": null,
            "border": null,
            "bottom": null,
            "display": null,
            "flex": null,
            "flex_flow": null,
            "grid_area": null,
            "grid_auto_columns": null,
            "grid_auto_flow": null,
            "grid_auto_rows": null,
            "grid_column": null,
            "grid_gap": null,
            "grid_row": null,
            "grid_template_areas": null,
            "grid_template_columns": null,
            "grid_template_rows": null,
            "height": null,
            "justify_content": null,
            "justify_items": null,
            "left": null,
            "margin": null,
            "max_height": null,
            "max_width": null,
            "min_height": null,
            "min_width": null,
            "object_fit": null,
            "object_position": null,
            "order": null,
            "overflow": null,
            "overflow_x": null,
            "overflow_y": null,
            "padding": null,
            "right": null,
            "top": null,
            "visibility": null,
            "width": null
          }
        },
        "02d0cf0447a14aeb949b9d5a98251527": {
          "model_module": "@jupyter-widgets/controls",
          "model_name": "ProgressStyleModel",
          "model_module_version": "1.5.0",
          "state": {
            "_model_module": "@jupyter-widgets/controls",
            "_model_module_version": "1.5.0",
            "_model_name": "ProgressStyleModel",
            "_view_count": null,
            "_view_module": "@jupyter-widgets/base",
            "_view_module_version": "1.2.0",
            "_view_name": "StyleView",
            "bar_color": null,
            "description_width": ""
          }
        },
        "354cace83d8143d3884db7dfc6501910": {
          "model_module": "@jupyter-widgets/base",
          "model_name": "LayoutModel",
          "model_module_version": "1.2.0",
          "state": {
            "_model_module": "@jupyter-widgets/base",
            "_model_module_version": "1.2.0",
            "_model_name": "LayoutModel",
            "_view_count": null,
            "_view_module": "@jupyter-widgets/base",
            "_view_module_version": "1.2.0",
            "_view_name": "LayoutView",
            "align_content": null,
            "align_items": null,
            "align_self": null,
            "border": null,
            "bottom": null,
            "display": null,
            "flex": null,
            "flex_flow": null,
            "grid_area": null,
            "grid_auto_columns": null,
            "grid_auto_flow": null,
            "grid_auto_rows": null,
            "grid_column": null,
            "grid_gap": null,
            "grid_row": null,
            "grid_template_areas": null,
            "grid_template_columns": null,
            "grid_template_rows": null,
            "height": null,
            "justify_content": null,
            "justify_items": null,
            "left": null,
            "margin": null,
            "max_height": null,
            "max_width": null,
            "min_height": null,
            "min_width": null,
            "object_fit": null,
            "object_position": null,
            "order": null,
            "overflow": null,
            "overflow_x": null,
            "overflow_y": null,
            "padding": null,
            "right": null,
            "top": null,
            "visibility": null,
            "width": null
          }
        },
        "2567c36752ba4a65a327dff0f5c43668": {
          "model_module": "@jupyter-widgets/controls",
          "model_name": "DescriptionStyleModel",
          "model_module_version": "1.5.0",
          "state": {
            "_model_module": "@jupyter-widgets/controls",
            "_model_module_version": "1.5.0",
            "_model_name": "DescriptionStyleModel",
            "_view_count": null,
            "_view_module": "@jupyter-widgets/base",
            "_view_module_version": "1.2.0",
            "_view_name": "StyleView",
            "description_width": ""
          }
        }
      }
    }
  },
  "cells": [
    {
      "cell_type": "markdown",
      "metadata": {
        "id": "view-in-github",
        "colab_type": "text"
      },
      "source": [
        "<a href=\"https://colab.research.google.com/github/Epic721/Understanding-Siri-NLP/blob/main/AK_UnderstandingSiri_N2.ipynb\" target=\"_parent\"><img src=\"https://colab.research.google.com/assets/colab-badge.svg\" alt=\"Open In Colab\"/></a>"
      ]
    },
    {
      "cell_type": "markdown",
      "metadata": {
        "id": "dlE9nndIa-4-"
      },
      "source": [
        "#Notebook 2\n",
        "\n",
        "In this second notebook, I preprocessed the dataset for the ML models and implemented a pretrained BERT model."
      ]
    },
    {
      "cell_type": "markdown",
      "metadata": {
        "id": "irPDgkzsdguU"
      },
      "source": [
        "## Sentence Level Classification\n",
        "\n",
        "To elaborate, **BERT** stands for **B**idirectional **E**ncoder **R**epresentations from **T**ransformers, and is a novel model architecture that uses both the left and right *context* words in a sequence to generate context-based word embeddings.\n",
        "\n",
        "I made use of existing Pytorch APIs for BERT that allowed me convert my voice command sequence data into the format that the BERT model expects, and then use pretrained BERT for the classification task.\n",
        "\n",
        "Here is a surface-level diagram of BERT:\n",
        "\n",
        "\n",
        "<img src=\"https://pytorch.org/tutorials/_images/bert.png\" height=\"300\">\n",
        "\n",
        "Out of the many available pretrained BERT models, I used the cased BERT base (trained on the English text; 12 layers - 6 layers within the encoder and 6 layers within the decoder - and 12 attention heads).\n",
        "\n",
        "\n",
        "\n"
      ]
    },
    {
      "cell_type": "code",
      "metadata": {
        "id": "PjzYKqcweS2F",
        "colab": {
          "base_uri": "https://localhost:8080/"
        },
        "outputId": "492f6dec-ef95-495f-ca04-77fea462d625"
      },
      "source": [
        "#Previously implemented code\n",
        "%tensorflow_version 2.x\n",
        "%pip install -q transformers\n",
        "\n",
        "from urllib.request import urlretrieve\n",
        "from pathlib import Path\n",
        "import matplotlib.pyplot as plt\n",
        "import numpy as np\n",
        "import pandas as pd\n",
        "\n",
        "\n",
        "!wget -q --show-progress 'https://storage.googleapis.com/inspirit-ai-data-bucket-1/Data/AI%20Scholars/Sessions%206%20-%2010%20(Projects)/Project%20-%20Siri%20(Bert)%20Voice%20Commands/train'\n",
        "!wget -q --show-progress 'https://storage.googleapis.com/inspirit-ai-data-bucket-1/Data/AI%20Scholars/Sessions%206%20-%2010%20(Projects)/Project%20-%20Siri%20(Bert)%20Voice%20Commands/valid'\n",
        "!wget -q --show-progress 'https://storage.googleapis.com/inspirit-ai-data-bucket-1/Data/AI%20Scholars/Sessions%206%20-%2010%20(Projects)/Project%20-%20Siri%20(Bert)%20Voice%20Commands/test'\n",
        "!wget -q --show-progress 'https://storage.googleapis.com/inspirit-ai-data-bucket-1/Data/AI%20Scholars/Sessions%206%20-%2010%20(Projects)/Project%20-%20Siri%20(Bert)%20Voice%20Commands/vocab.intent'\n",
        "!wget -q --show-progress 'https://storage.googleapis.com/inspirit-ai-data-bucket-1/Data/AI%20Scholars/Sessions%206%20-%2010%20(Projects)/Project%20-%20Siri%20(Bert)%20Voice%20Commands/vocab.slot'\n",
        "\n",
        "def parse_line(line):\n",
        "    data, intent_label = line.split(\" <=> \")\n",
        "    items = data.split()\n",
        "    words = [item.rsplit(\":\", 1)[0]for item in items]\n",
        "    word_labels = [item.rsplit(\":\", 1)[1]for item in items]\n",
        "    return {\n",
        "        \"intent_label\": intent_label,\n",
        "        \"words\": \" \".join(words),\n",
        "        \"word_labels\": \" \".join(word_labels),\n",
        "        \"length\": len(words),\n",
        "    }\n",
        "\n",
        "\n",
        "train_lines = Path(\"train\").read_text().strip().splitlines()\n",
        "valid_lines = Path(\"valid\").read_text().strip().splitlines()\n",
        "test_lines = Path(\"test\").read_text().strip().splitlines()\n",
        "\n",
        "df_train = pd.DataFrame([parse_line(line) for line in train_lines])\n",
        "df_valid = pd.DataFrame([parse_line(line) for line in valid_lines])\n",
        "df_test = pd.DataFrame([parse_line(line) for line in test_lines])"
      ],
      "execution_count": null,
      "outputs": [
        {
          "output_type": "stream",
          "name": "stdout",
          "text": [
            "Colab only includes TensorFlow 2.x; %tensorflow_version has no effect.\n",
            "\u001b[2K     \u001b[90m━━━━━━━━━━━━━━━━━━━━━━━━━━━━━━━━━━━━━━━━\u001b[0m \u001b[32m5.8/5.8 MB\u001b[0m \u001b[31m58.5 MB/s\u001b[0m eta \u001b[36m0:00:00\u001b[0m\n",
            "\u001b[2K     \u001b[90m━━━━━━━━━━━━━━━━━━━━━━━━━━━━━━━━━━━━━━\u001b[0m \u001b[32m182.4/182.4 KB\u001b[0m \u001b[31m24.0 MB/s\u001b[0m eta \u001b[36m0:00:00\u001b[0m\n",
            "\u001b[2K     \u001b[90m━━━━━━━━━━━━━━━━━━━━━━━━━━━━━━━━━━━━━━━━\u001b[0m \u001b[32m7.6/7.6 MB\u001b[0m \u001b[31m89.3 MB/s\u001b[0m eta \u001b[36m0:00:00\u001b[0m\n",
            "train               100%[===================>]   1.71M  4.20MB/s    in 0.4s    \n",
            "valid               100%[===================>]  96.30K   554KB/s    in 0.2s    \n",
            "test                100%[===================>]  94.49K  --.-KB/s    in 0.09s   \n",
            "vocab.intent        100%[===================>]      99  --.-KB/s    in 0s      \n",
            "vocab.slot          100%[===================>]     994  --.-KB/s    in 0s      \n"
          ]
        }
      ]
    },
    {
      "cell_type": "markdown",
      "metadata": {
        "id": "PAc67kxQftEV"
      },
      "source": [
        "As a reminder, `df_train`, `df_valid`, and `df_test` are the Pandas Dataframes that store the training, validation, and test datapoints."
      ]
    },
    {
      "cell_type": "markdown",
      "metadata": {
        "id": "D0ZWheGxd5XT"
      },
      "source": [
        "### Tokenizing the Data\n",
        "\n",
        "BERT expects input sequences to be broken down into individual *tokens*; a `[CLS]` token marks the beginning and a `[SEP]` marks the end of a given sequence (as seen in the red input sentences in the image above).\n",
        "\n",
        "The `[CLS]` token is used by BERT for the pre-training task for sequence classification.\n",
        "\n",
        "The `[SEP]` token is a separator for the pre-training task that classifies if a pair of sentences are consecutive in a corpus or not, i.e. next sentence prediction (NSP)."
      ]
    },
    {
      "cell_type": "code",
      "metadata": {
        "id": "2VLvVuJUchlR",
        "colab": {
          "base_uri": "https://localhost:8080/",
          "height": 113,
          "referenced_widgets": [
            "29ceb6b865fd48cf8041bd259010dcc2",
            "438ff21986c14c32b55c8dd6006dfbcc",
            "c7087a52d9194850bdb12d597eb3b1ef",
            "5bba37def4d64f2f91803dcf8929d372",
            "66500780f31447fb916d7fce8456d03a",
            "8a5347b27d314d2995f7fa3f02f5eefb",
            "d3a414d37fd6440fa1c6bb0e1a181a66",
            "c94bd7b9a6444a23b1687ba82aec243a",
            "4ae66abc6cb94e8fad799ea262e7404e",
            "281cf1bd322e4f8298e7fb8b57dbace5",
            "515a211e74e44536a77964ab2ac9a45f",
            "fefb1420bf2943ea8ced8a667a908753",
            "d5e3c0e4703b4f31aff486ee227606a2",
            "a7074c9207fb4c9dbfa5c3c18e49f02f",
            "b134c0a6053f40ed9d8da4372a2b5a75",
            "f9f6c4c48be645d98ed4ad899e44e98b",
            "1831d6a57037454db0634cec275e0263",
            "d42bdb2af1fb459993772345cd439d17",
            "bcd88dabd96b44ef91a78c692840f480",
            "d0ee32e29a194ce98843836e1129af95",
            "7fde74f2caf9472b98ebf781fb155eb7",
            "83a6277f95c144bcb7b74b2eafd02d64",
            "b0adf1d2da29455aa8ae6a7b6b2648a2",
            "4cf2cb45d96d45c6962d91f01ff5996b",
            "7d47fd4d78174770bb99cb9258d53c0f",
            "452a85b03ba14026acfb93a5730321ee",
            "a6fcda709b5349a999100a062f104268",
            "684fef3e3f36447bb3dfbc6ad3b8cb1d",
            "3f81a7c100214759850be4227695701e",
            "7c3014add5744217986891f1d25717fa",
            "b80e886330ba455b91a9315bff7ff982",
            "b5c8d99ae32e4687a56322956eb2b719",
            "63265d29e549497ba8318f9d5b0d2099"
          ]
        },
        "outputId": "90d3ef45-b534-49f7-93fc-23fdf888c87e"
      },
      "source": [
        "# Imports the BERT tokenizer and utilizes the BERT base pretrained model\n",
        "from transformers import BertTokenizer\n",
        "\n",
        "model_name = \"bert-base-cased\"\n",
        "tokenizer = BertTokenizer.from_pretrained(model_name)"
      ],
      "execution_count": null,
      "outputs": [
        {
          "output_type": "display_data",
          "data": {
            "text/plain": [
              "Downloading:   0%|          | 0.00/213k [00:00<?, ?B/s]"
            ],
            "application/vnd.jupyter.widget-view+json": {
              "version_major": 2,
              "version_minor": 0,
              "model_id": "29ceb6b865fd48cf8041bd259010dcc2"
            }
          },
          "metadata": {}
        },
        {
          "output_type": "display_data",
          "data": {
            "text/plain": [
              "Downloading:   0%|          | 0.00/29.0 [00:00<?, ?B/s]"
            ],
            "application/vnd.jupyter.widget-view+json": {
              "version_major": 2,
              "version_minor": 0,
              "model_id": "fefb1420bf2943ea8ced8a667a908753"
            }
          },
          "metadata": {}
        },
        {
          "output_type": "display_data",
          "data": {
            "text/plain": [
              "Downloading:   0%|          | 0.00/570 [00:00<?, ?B/s]"
            ],
            "application/vnd.jupyter.widget-view+json": {
              "version_major": 2,
              "version_minor": 0,
              "model_id": "b0adf1d2da29455aa8ae6a7b6b2648a2"
            }
          },
          "metadata": {}
        }
      ]
    },
    {
      "cell_type": "markdown",
      "metadata": {
        "id": "CPdGS07td863"
      },
      "source": [
        "As shown below, there are roughly 30,000 token that BERT knows."
      ]
    },
    {
      "cell_type": "code",
      "metadata": {
        "id": "NDKUw6svd9Im",
        "colab": {
          "base_uri": "https://localhost:8080/"
        },
        "outputId": "34e37fc9-0455-45cb-9d86-d544a23dd79e"
      },
      "source": [
        "tokenizer.vocab_size"
      ],
      "execution_count": null,
      "outputs": [
        {
          "output_type": "execute_result",
          "data": {
            "text/plain": [
              "28996"
            ]
          },
          "metadata": {},
          "execution_count": 3
        }
      ]
    },
    {
      "cell_type": "markdown",
      "metadata": {
        "id": "C7gd0Pw8eA7B"
      },
      "source": [
        "As an example, this is how the BERT tokenizer works on a single training instance:"
      ]
    },
    {
      "cell_type": "code",
      "metadata": {
        "id": "wf4zLAdaeBR1",
        "colab": {
          "base_uri": "https://localhost:8080/"
        },
        "outputId": "2eef3c97-955c-4741-b964-48a6a379ba55"
      },
      "source": [
        "# Prints the first training data sequence\n",
        "first_sentence = df_train.iloc[0][\"words\"]\n",
        "print(first_sentence)\n",
        "print(\"This sentence contains {} words.\".format(len(first_sentence.split(\" \"))))"
      ],
      "execution_count": null,
      "outputs": [
        {
          "output_type": "stream",
          "name": "stdout",
          "text": [
            "Add Don and Sherri to my Meditate to Sounds of Nature playlist\n",
            "This sentence contains 12 words.\n"
          ]
        }
      ]
    },
    {
      "cell_type": "code",
      "metadata": {
        "id": "kusXEf2JeFDg",
        "colab": {
          "base_uri": "https://localhost:8080/"
        },
        "outputId": "21b407d1-bfe3-4959-c024-936684afd6f8"
      },
      "source": [
        "tokens = tokenizer.tokenize(first_sentence)\n",
        "for t in tokens:\n",
        "  print(t)\n",
        "print(\"\\nThis sentence turns into {} tokens.\".format(len(tokens)))"
      ],
      "execution_count": null,
      "outputs": [
        {
          "output_type": "stream",
          "name": "stdout",
          "text": [
            "Ad\n",
            "##d\n",
            "Don\n",
            "and\n",
            "She\n",
            "##rri\n",
            "to\n",
            "my\n",
            "Me\n",
            "##dit\n",
            "##ate\n",
            "to\n",
            "Sounds\n",
            "of\n",
            "Nature\n",
            "play\n",
            "##list\n",
            "\n",
            "This sentence turns into 17 tokens.\n"
          ]
        }
      ]
    },
    {
      "cell_type": "markdown",
      "metadata": {
        "id": "rUUM0qHugJcw"
      },
      "source": [
        "My example demonstrates how BERT uses something called subword tokenization.\n",
        "\n",
        "**Subword tokenization** may break some words into smaller units and does not always use a 1:1 mapping of words to tokens. Because of subword tokenization within BERT, the length of tokenized sentences is likely to be larger than the original number of words in the sentence."
      ]
    },
    {
      "cell_type": "markdown",
      "metadata": {
        "id": "gJGWM5J-gOZV"
      },
      "source": [
        "### Encoding Tokens\n",
        "\n",
        "In this model, each token is mapped to a unique integer id that facilitates lookup of the correct column in the input layer token embedding (seen in yellow below).\n",
        "\n",
        "<img src=\"https://miro.medium.com/max/1496/1*fywysLzEbXxEqkPeIUWaJw.png\" width=\"500\">"
      ]
    },
    {
      "cell_type": "code",
      "metadata": {
        "id": "_3yBoMYqgG0R",
        "colab": {
          "base_uri": "https://localhost:8080/"
        },
        "outputId": "06340e25-1487-4ef2-fd4d-278e9a03c3b9"
      },
      "source": [
        "# Viewing the first 10 (token,id) pairs within BERT.\n",
        "bert_vocab_items = list(tokenizer.vocab.items())\n",
        "bert_vocab_items[:10]"
      ],
      "execution_count": null,
      "outputs": [
        {
          "output_type": "execute_result",
          "data": {
            "text/plain": [
              "[('[PAD]', 0),\n",
              " ('[unused1]', 1),\n",
              " ('[unused2]', 2),\n",
              " ('[unused3]', 3),\n",
              " ('[unused4]', 4),\n",
              " ('[unused5]', 5),\n",
              " ('[unused6]', 6),\n",
              " ('[unused7]', 7),\n",
              " ('[unused8]', 8),\n",
              " ('[unused9]', 9)]"
            ]
          },
          "metadata": {},
          "execution_count": 6
        }
      ]
    },
    {
      "cell_type": "code",
      "metadata": {
        "id": "TOnuTWJvgQ7P",
        "colab": {
          "base_uri": "https://localhost:8080/"
        },
        "outputId": "a1435749-d0fd-4b30-ff10-a0dff833a759"
      },
      "source": [
        "# More (token,id) examples within BERT's vocab.\n",
        "bert_vocab_items[1100:1110]"
      ],
      "execution_count": null,
      "outputs": [
        {
          "output_type": "execute_result",
          "data": {
            "text/plain": [
              "[('－', 1100),\n",
              " ('／', 1101),\n",
              " ('：', 1102),\n",
              " ('the', 1103),\n",
              " ('of', 1104),\n",
              " ('and', 1105),\n",
              " ('to', 1106),\n",
              " ('in', 1107),\n",
              " ('was', 1108),\n",
              " ('The', 1109)]"
            ]
          },
          "metadata": {},
          "execution_count": 27
        }
      ]
    },
    {
      "cell_type": "code",
      "metadata": {
        "id": "JbRRA_YknLgE",
        "colab": {
          "base_uri": "https://localhost:8080/"
        },
        "outputId": "2819ce4e-f1d4-40bc-c53c-d8c81782fd7f"
      },
      "source": [
        "# Special tokens\n",
        "bert_vocab_items[100:104]"
      ],
      "execution_count": null,
      "outputs": [
        {
          "output_type": "execute_result",
          "data": {
            "text/plain": [
              "[('[UNK]', 100), ('[CLS]', 101), ('[SEP]', 102), ('[MASK]', 103)]"
            ]
          },
          "metadata": {},
          "execution_count": 28
        }
      ]
    },
    {
      "cell_type": "markdown",
      "metadata": {
        "id": "TRF34weGoClK"
      },
      "source": [
        "As a clarification, the `[UNK]` token is used to replace tokens that BERT doesn't recognize. If there is no way to split a word into subtokens, the whole word becomes `[UNK]`.\n",
        "\n",
        "`[CLS]` marks the beginning of a sentence, and `[SEP]` marks the end.\n",
        "\n",
        "`[MASK]` is used by BERT in the pre-training task called MLM (Masked Language Model) where it learns to predict the original word if it's masked out in a sentence."
      ]
    },
    {
      "cell_type": "markdown",
      "metadata": {
        "id": "qbCq5LpQgVkF"
      },
      "source": [
        "Now, I tested how the example training sequence can be encoded into the corresponding list of token embedding ids and decoded back into the original input tokens."
      ]
    },
    {
      "cell_type": "code",
      "metadata": {
        "id": "_pQUHmuDgSyn",
        "colab": {
          "base_uri": "https://localhost:8080/"
        },
        "outputId": "15ef249d-d7e5-4344-f8b8-9994d2cd5242"
      },
      "source": [
        "# View the integer indexes for the token embeddings of the first sentence.\n",
        "idxs = tokenizer.encode(first_sentence)\n",
        "print(idxs)"
      ],
      "execution_count": null,
      "outputs": [
        {
          "output_type": "stream",
          "name": "stdout",
          "text": [
            "[101, 24930, 1181, 1790, 1105, 1153, 14791, 1106, 1139, 2508, 17903, 2193, 1106, 10560, 1104, 7009, 1505, 7276, 102]\n"
          ]
        }
      ]
    },
    {
      "cell_type": "code",
      "metadata": {
        "id": "Ht-HqEmMgXZy",
        "colab": {
          "base_uri": "https://localhost:8080/",
          "height": 36
        },
        "outputId": "b1d1b1b3-8605-4d24-9072-2cbdd4496c53"
      },
      "source": [
        "# Decode the encoding, which should produce the original sequence.\n",
        "tokenizer.decode(idxs)"
      ],
      "execution_count": null,
      "outputs": [
        {
          "output_type": "execute_result",
          "data": {
            "text/plain": [
              "'[CLS] Add Don and Sherri to my Meditate to Sounds of Nature playlist [SEP]'"
            ],
            "application/vnd.google.colaboratory.intrinsic+json": {
              "type": "string"
            }
          },
          "metadata": {},
          "execution_count": 10
        }
      ]
    },
    {
      "cell_type": "markdown",
      "metadata": {
        "id": "FzWrP7kYgdVo"
      },
      "source": [
        "### Padding Tokenized Sequences"
      ]
    },
    {
      "cell_type": "markdown",
      "metadata": {
        "id": "0XlouEr3ggRN"
      },
      "source": [
        "**Transfer learning**, i.e. using *pretrained* BERT applied to the new dataset and sentiment classification task, requires that the sequences are **padded**, which means they all have the same length.\n",
        "\n",
        "\n",
        "In the Training Data Analysis section of my 1st notebook, I created a histogram according to the lengths of training sequences. Now, I generated a histogram of the **tokenized** sequences:"
      ]
    },
    {
      "cell_type": "code",
      "metadata": {
        "id": "pNhyiwep2s3N",
        "colab": {
          "base_uri": "https://localhost:8080/",
          "height": 295
        },
        "outputId": "721e0a19-3b19-4739-f5f9-29eadd5d4909"
      },
      "source": [
        "train_sequence_lengths = [len(tokenizer.encode(text))\n",
        "                          for text in df_train[\"words\"]] #Using tokenizer.encode on every sequence within df_train\n",
        "plt.hist(train_sequence_lengths, bins=30)\n",
        "\n",
        "\n",
        "plt.xlabel(\"Number of tokens per sequence\")\n",
        "plt.ylabel(\"Count of sequences\")\n",
        "plt.title(\"Token Sequence Length Histogram\")\n",
        "plt.show()"
      ],
      "execution_count": null,
      "outputs": [
        {
          "output_type": "display_data",
          "data": {
            "text/plain": [
              "<Figure size 432x288 with 1 Axes>"
            ],
            "image/png": "[encoded data removed]"
          },
          "metadata": {
            "needs_background": "light"
          }
        }
      ]
    },
    {
      "cell_type": "code",
      "metadata": {
        "id": "6Os61ui7hPxH",
        "colab": {
          "base_uri": "https://localhost:8080/"
        },
        "outputId": "63e036e9-a411-435e-b62c-7ec84df15082"
      },
      "source": [
        "max_token_len = max(train_sequence_lengths)\n",
        "print(\"Maximum tokenized sequence length: {} tokens per sequence\".format(max_token_len))"
      ],
      "execution_count": null,
      "outputs": [
        {
          "output_type": "stream",
          "name": "stdout",
          "text": [
            "Maximum tokenized sequence length: 43 tokens per sequence\n"
          ]
        }
      ]
    },
    {
      "cell_type": "markdown",
      "metadata": {
        "id": "SyCTT3WPhpec"
      },
      "source": [
        "As a refresher, the maximum of the original voice command lengths was 35 words per sequence.\n",
        "\n",
        "The above histogram shows that after tokenization, 43 tokens is long enough to represent all the voice commands in the training set."
      ]
    },
    {
      "cell_type": "markdown",
      "metadata": {
        "id": "6LoeTBKEhrev"
      },
      "source": [
        "### Preprocessing Full Dataset\n",
        "\n",
        "<img src=\"https://miro.medium.com/max/2152/1*vNGH3DTu83pZr3gVHsz7yg.png\" width=500>\n"
      ]
    },
    {
      "cell_type": "markdown",
      "metadata": {
        "id": "ZJGK5kL9xHtH"
      },
      "source": [
        "Following the previous verification, I encoded the full train, validation, and test sets with the BERT tokenizer to get padded integer numpy arrays:"
      ]
    },
    {
      "cell_type": "code",
      "metadata": {
        "id": "nFDJmLtghpuX"
      },
      "source": [
        "def encode_dataset(text_sequences):\n",
        "    # Creating token_ids array (initialized to all zeros), where\n",
        "    # rows are a sequence and columns are encoding ids\n",
        "    # of each token in given sequence.\n",
        "    token_ids = np.zeros(shape=(len(text_sequences), max_token_len),\n",
        "                         dtype=np.int32)\n",
        "\n",
        "    for i, text_sequence in enumerate(text_sequences): #(i, seq[i])\n",
        "        encoded = tokenizer.encode(text_sequence)\n",
        "        token_ids[i, 0:len(encoded)] = encoded\n",
        "\n",
        "    attention_masks = (token_ids != 0).astype(np.int32)\n",
        "    return {\"input_ids\": token_ids, \"attention_masks\": attention_masks}"
      ],
      "execution_count": null,
      "outputs": []
    },
    {
      "cell_type": "code",
      "metadata": {
        "id": "fJ2GF91YhvIB"
      },
      "source": [
        "encoded_train = encode_dataset(df_train[\"words\"])"
      ],
      "execution_count": null,
      "outputs": []
    },
    {
      "cell_type": "markdown",
      "metadata": {
        "id": "zlfF7RWKh5rV"
      },
      "source": [
        "Here is the output of the function `encode_dataset` on the training data:"
      ]
    },
    {
      "cell_type": "code",
      "metadata": {
        "id": "qA4uyGmrhwqq",
        "colab": {
          "base_uri": "https://localhost:8080/"
        },
        "outputId": "7c74db94-818e-4fa7-d414-a9eeb367ed52"
      },
      "source": [
        "encoded_train[\"input_ids\"]"
      ],
      "execution_count": null,
      "outputs": [
        {
          "output_type": "execute_result",
          "data": {
            "text/plain": [
              "array([[  101, 24930,  1181, ...,     0,     0,     0],\n",
              "       [  101,  1508,  1244, ...,     0,     0,     0],\n",
              "       [  101,  5194,  1103, ...,     0,     0,     0],\n",
              "       ...,\n",
              "       [  101, 27640,  1116, ...,     0,     0,     0],\n",
              "       [  101,  5979,  6608, ...,     0,     0,     0],\n",
              "       [  101,  1327,  2523, ...,     0,     0,     0]], dtype=int32)"
            ]
          },
          "metadata": {},
          "execution_count": 15
        }
      ]
    },
    {
      "cell_type": "code",
      "metadata": {
        "id": "ExBeEvwQh7h-",
        "colab": {
          "base_uri": "https://localhost:8080/"
        },
        "outputId": "f3755f8a-34eb-4dfa-c6c6-06b2ccf8e3b5"
      },
      "source": [
        "encoded_train[\"attention_masks\"]"
      ],
      "execution_count": null,
      "outputs": [
        {
          "output_type": "execute_result",
          "data": {
            "text/plain": [
              "array([[1, 1, 1, ..., 0, 0, 0],\n",
              "       [1, 1, 1, ..., 0, 0, 0],\n",
              "       [1, 1, 1, ..., 0, 0, 0],\n",
              "       ...,\n",
              "       [1, 1, 1, ..., 0, 0, 0],\n",
              "       [1, 1, 1, ..., 0, 0, 0],\n",
              "       [1, 1, 1, ..., 0, 0, 0]], dtype=int32)"
            ]
          },
          "metadata": {},
          "execution_count": 16
        }
      ]
    },
    {
      "cell_type": "markdown",
      "metadata": {
        "id": "pD13PjPih-2A"
      },
      "source": [
        "To clarify, the attention_masks array indicates to the model which tokens should be attended to (1), and which should not (0) due to the padding that was performed.\n"
      ]
    },
    {
      "cell_type": "markdown",
      "metadata": {
        "id": "KSEQpuOSiAtp"
      },
      "source": [
        "I also created the encoding id and attention mask arrays for the validation and test sets:"
      ]
    },
    {
      "cell_type": "code",
      "metadata": {
        "id": "cp7N_dQl2z6_"
      },
      "source": [
        "encoded_valid = encode_dataset(df_valid[\"words\"])\n",
        "encoded_test = encode_dataset(df_test[\"words\"])"
      ],
      "execution_count": null,
      "outputs": []
    },
    {
      "cell_type": "markdown",
      "metadata": {
        "id": "kPj_8jJPiKIf"
      },
      "source": [
        "#### Encoding the Sequence Classification Targets\n",
        "\n",
        "Aside from encodings of the tokenized word sequences, I also needed to encode the target intent classification labels."
      ]
    },
    {
      "cell_type": "code",
      "metadata": {
        "id": "t-eOu3PbiKWx",
        "colab": {
          "base_uri": "https://localhost:8080/"
        },
        "outputId": "cef48467-dfe9-4d45-eda4-4f46cf1f4e3d"
      },
      "source": [
        "# Building a map from target intent label to a unique id.\n",
        "intent_names = Path(\"vocab.intent\").read_text().split()\n",
        "intent_map = dict((label, idx) for idx, label in enumerate(intent_names))\n",
        "intent_map"
      ],
      "execution_count": null,
      "outputs": [
        {
          "output_type": "execute_result",
          "data": {
            "text/plain": [
              "{'AddToPlaylist': 0,\n",
              " 'BookRestaurant': 1,\n",
              " 'GetWeather': 2,\n",
              " 'PlayMusic': 3,\n",
              " 'RateBook': 4,\n",
              " 'SearchCreativeWork': 5,\n",
              " 'SearchScreeningEvent': 6}"
            ]
          },
          "metadata": {},
          "execution_count": 17
        }
      ]
    },
    {
      "cell_type": "code",
      "metadata": {
        "id": "v5bTeYoRiNVQ",
        "colab": {
          "base_uri": "https://localhost:8080/"
        },
        "outputId": "a77c90b1-a06b-4bd0-952e-02a29f4bfdc8"
      },
      "source": [
        "# Converts list of target labels into their corresponding unique id.\n",
        "intent_train = df_train[\"intent_label\"].map(intent_map).values\n",
        "intent_train"
      ],
      "execution_count": null,
      "outputs": [
        {
          "output_type": "execute_result",
          "data": {
            "text/plain": [
              "array([0, 0, 0, ..., 6, 6, 6])"
            ]
          },
          "metadata": {},
          "execution_count": 18
        }
      ]
    },
    {
      "cell_type": "code",
      "metadata": {
        "id": "qnzGflSGiPC0",
        "colab": {
          "base_uri": "https://localhost:8080/"
        },
        "outputId": "b403e8cc-0b77-4433-c80a-6e2998e9f6e6"
      },
      "source": [
        "# Sanity check: the number of sentences that belongs to each class\n",
        "for i in range(7):\n",
        "  print(len(intent_train[intent_train == i]))"
      ],
      "execution_count": null,
      "outputs": [
        {
          "output_type": "stream",
          "name": "stdout",
          "text": [
            "1842\n",
            "1873\n",
            "1900\n",
            "1900\n",
            "1856\n",
            "1854\n",
            "1859\n"
          ]
        }
      ]
    },
    {
      "cell_type": "markdown",
      "metadata": {
        "id": "nbY64mzriRb6"
      },
      "source": [
        "<img src=\"https://drive.google.com/uc?id=1i9qommblASpRkuJWCtyRo2E1xYd7IgfA\" height=\"200\">\n",
        "\n",
        "I verified that this was the same as we found within the first notebook (screenshot of that output above)."
      ]
    },
    {
      "cell_type": "markdown",
      "metadata": {
        "id": "w6WNpz_1iZ1m"
      },
      "source": [
        "Finally, I encoded the intent labels for the validation and training sets as well:"
      ]
    },
    {
      "cell_type": "code",
      "metadata": {
        "id": "etoNnnWd231U"
      },
      "source": [
        "intent_valid = df_valid[\"intent_label\"].map(intent_map).values\n",
        "intent_test = df_test[\"intent_label\"].map(intent_map).values"
      ],
      "execution_count": null,
      "outputs": []
    },
    {
      "cell_type": "markdown",
      "metadata": {
        "id": "LBNRFoRIihgh"
      },
      "source": [
        "### Using a Pretrained BERT model\n",
        "Now that all the pre-processing steps were complete, I experimented with the pretrained BERT model."
      ]
    },
    {
      "cell_type": "code",
      "metadata": {
        "id": "QdsPIw6Uih_d",
        "colab": {
          "base_uri": "https://localhost:8080/",
          "height": 353,
          "referenced_widgets": [
            "28d0cd2f8c674570ac9871d921137ce4",
            "15d1430dafe646248b19b054708451a0",
            "97617571af1c447080f0757b9da16e30",
            "0094144d9ae8444c982cae46a7f0e3a2",
            "990e3011fd4745a1b927e19f2d717545",
            "32b58137533f41b694fbcc020a3592c5",
            "a6668a6b391d41ce942fd3b195ab96ee",
            "200c91f45cbe42a2bef05ce1cd8d47e6",
            "02d0cf0447a14aeb949b9d5a98251527",
            "354cace83d8143d3884db7dfc6501910",
            "2567c36752ba4a65a327dff0f5c43668"
          ]
        },
        "outputId": "da9f8abb-de1f-4a1b-ba40-3410200d0292"
      },
      "source": [
        "from transformers import TFBertModel\n",
        "\n",
        "base_bert_model = TFBertModel.from_pretrained(model_name) #\"bert-base-cased\"\n",
        "base_bert_model.summary()"
      ],
      "execution_count": null,
      "outputs": [
        {
          "output_type": "display_data",
          "data": {
            "text/plain": [
              "Downloading:   0%|          | 0.00/527M [00:00<?, ?B/s]"
            ],
            "application/vnd.jupyter.widget-view+json": {
              "version_major": 2,
              "version_minor": 0,
              "model_id": "28d0cd2f8c674570ac9871d921137ce4"
            }
          },
          "metadata": {}
        },
        {
          "output_type": "stream",
          "name": "stderr",
          "text": [
            "Some layers from the model checkpoint at bert-base-cased were not used when initializing TFBertModel: ['nsp___cls', 'mlm___cls']\n",
            "- This IS expected if you are initializing TFBertModel from the checkpoint of a model trained on another task or with another architecture (e.g. initializing a BertForSequenceClassification model from a BertForPreTraining model).\n",
            "- This IS NOT expected if you are initializing TFBertModel from the checkpoint of a model that you expect to be exactly identical (initializing a BertForSequenceClassification model from a BertForSequenceClassification model).\n",
            "All the layers of TFBertModel were initialized from the model checkpoint at bert-base-cased.\n",
            "If your task is similar to the task the model of the checkpoint was trained on, you can already use TFBertModel for predictions without further training.\n"
          ]
        },
        {
          "output_type": "stream",
          "name": "stdout",
          "text": [
            "Model: \"tf_bert_model\"\n",
            "_________________________________________________________________\n",
            " Layer (type)                Output Shape              Param #   \n",
            "=================================================================\n",
            " bert (TFBertMainLayer)      multiple                  108310272 \n",
            "                                                                 \n",
            "=================================================================\n",
            "Total params: 108,310,272\n",
            "Trainable params: 108,310,272\n",
            "Non-trainable params: 0\n",
            "_________________________________________________________________\n"
          ]
        }
      ]
    },
    {
      "cell_type": "markdown",
      "metadata": {
        "id": "vumnko-qiy-F"
      },
      "source": [
        "This is what the pretrained BERT model outputted when I fed it the encoded validation set:"
      ]
    },
    {
      "cell_type": "code",
      "metadata": {
        "id": "jZEJmpSPjQyT",
        "colab": {
          "base_uri": "https://localhost:8080/"
        },
        "outputId": "956cb97f-2caa-44c2-aed5-0678366d53ac"
      },
      "source": [
        "# Note: This cell might take a bit of time to run.\n",
        "outputs = base_bert_model(encoded_valid[\"input_ids\"])\n",
        "len(outputs)"
      ],
      "execution_count": null,
      "outputs": [
        {
          "output_type": "execute_result",
          "data": {
            "text/plain": [
              "2"
            ]
          },
          "metadata": {},
          "execution_count": 29
        }
      ]
    },
    {
      "cell_type": "code",
      "metadata": {
        "id": "FZVA5Cm7jTgU",
        "colab": {
          "base_uri": "https://localhost:8080/"
        },
        "outputId": "06b484d1-22b0-4913-a4f8-8bbd521f9a52"
      },
      "source": [
        "print(encoded_valid.values())"
      ],
      "execution_count": null,
      "outputs": [
        {
          "output_type": "stream",
          "name": "stdout",
          "text": [
            "dict_values([array([[  101,   142, 13894, ...,     0,     0,     0],\n",
            "       [  101,  2825,   179, ...,     0,     0,     0],\n",
            "       [  101, 24930,  1181, ...,     0,     0,     0],\n",
            "       ...,\n",
            "       [  101,  1525,   170, ...,     0,     0,     0],\n",
            "       [  101,  4630,  1143, ...,     0,     0,     0],\n",
            "       [  101,  1327,  1159, ...,     0,     0,     0]], dtype=int32), array([[1, 1, 1, ..., 0, 0, 0],\n",
            "       [1, 1, 1, ..., 0, 0, 0],\n",
            "       [1, 1, 1, ..., 0, 0, 0],\n",
            "       ...,\n",
            "       [1, 1, 1, ..., 0, 0, 0],\n",
            "       [1, 1, 1, ..., 0, 0, 0],\n",
            "       [1, 1, 1, ..., 0, 0, 0]], dtype=int32)])\n"
          ]
        }
      ]
    },
    {
      "cell_type": "markdown",
      "metadata": {
        "id": "fQlDWVZdnYZZ"
      },
      "source": [
        "#### Outputs of BERT\n",
        "\n",
        "From above, I saw that there were two outputs from the BERT model:\n",
        "\n",
        "\n",
        "1. The **first** output of the BERT model was a tensor with shape: `(batch_size, seq_len, output_dim)` which computed **features for each token in the input sequence** (token level)."
      ]
    },
    {
      "cell_type": "code",
      "metadata": {
        "id": "M5DDe2kanYy4",
        "colab": {
          "base_uri": "https://localhost:8080/"
        },
        "outputId": "905e28f6-6886-499e-8dac-96df60de168f"
      },
      "source": [
        "token_features = outputs[0]\n",
        "token_features.shape"
      ],
      "execution_count": null,
      "outputs": [
        {
          "output_type": "execute_result",
          "data": {
            "text/plain": [
              "TensorShape([700, 43, 768])"
            ]
          },
          "metadata": {},
          "execution_count": 31
        }
      ]
    },
    {
      "cell_type": "markdown",
      "metadata": {
        "id": "WED3ODi-n5Zx"
      },
      "source": [
        "In my case, I noted that `seq_len` is `max_token_len` (ie. 43)."
      ]
    },
    {
      "cell_type": "markdown",
      "metadata": {
        "id": "Ik14njDsn7Uf"
      },
      "source": [
        "\n",
        "2.\n",
        "\n",
        "The **second** output of the BERT model was a tensor with shape: `(batch_size, output_dim)` which was the feature vector of `[CLS]`. Upon doing more research on BERT and consulting my mentor, I learned that this vector was typically used as a **pooled representation for the sequence as a whole**. Thus, I was able to use it as the features of my intent classifier."
      ]
    },
    {
      "cell_type": "code",
      "metadata": {
        "id": "kxpxokzpnaVv",
        "colab": {
          "base_uri": "https://localhost:8080/"
        },
        "outputId": "a9fe9720-e8e5-45c3-a134-7788faf8c630"
      },
      "source": [
        "sentence_representation = outputs[1]\n",
        "sentence_representation.shape"
      ],
      "execution_count": null,
      "outputs": [
        {
          "output_type": "execute_result",
          "data": {
            "text/plain": [
              "TensorShape([700, 768])"
            ]
          },
          "metadata": {},
          "execution_count": 32
        }
      ]
    },
    {
      "cell_type": "markdown",
      "metadata": {
        "id": "EDNxGswlga65"
      },
      "source": [
        "I noted that it was also possible to pool the representations (encodings) of all the tokens within the sequence (i.e. global average), but proceeded with the former method of using the `CLS` feature vector."
      ]
    },
    {
      "cell_type": "markdown",
      "metadata": {
        "id": "S6Fh7rYXzhaK"
      },
      "source": [
        "#### Pooled Representation"
      ]
    },
    {
      "cell_type": "markdown",
      "metadata": {
        "id": "t3u4v-8In_KG"
      },
      "source": [
        "To get my pooled output, I applied a small multi-layer-perception (MLP) layer called the \"Pooler\" to the output representation of the special `[CLS]` token.\n"
      ]
    },
    {
      "cell_type": "code",
      "metadata": {
        "id": "qhZE-GFLn_7w",
        "colab": {
          "base_uri": "https://localhost:8080/"
        },
        "outputId": "99a20d16-aeb6-4be2-f8d4-3ba1a2f41058"
      },
      "source": [
        "base_bert_model.bert.pooler.dense"
      ],
      "execution_count": null,
      "outputs": [
        {
          "output_type": "execute_result",
          "data": {
            "text/plain": [
              "<keras.layers.core.dense.Dense at 0x7fbdd0038ee0>"
            ]
          },
          "metadata": {},
          "execution_count": 33
        }
      ]
    },
    {
      "cell_type": "code",
      "metadata": {
        "id": "lxopUQmroBXy",
        "colab": {
          "base_uri": "https://localhost:8080/"
        },
        "outputId": "32610d57-3d4f-4e93-9637-c5fc91fa7a85"
      },
      "source": [
        "# Extracting the features across all batches for the 0th ([CLS]) token\n",
        "first_token_states = token_features[:, 0]\n",
        "pooled_outputs = base_bert_model.bert.pooler.dense(first_token_states)\n",
        "pooled_outputs.shape"
      ],
      "execution_count": null,
      "outputs": [
        {
          "output_type": "execute_result",
          "data": {
            "text/plain": [
              "TensorShape([700, 768])"
            ]
          },
          "metadata": {},
          "execution_count": 34
        }
      ]
    },
    {
      "cell_type": "markdown",
      "metadata": {
        "id": "VROGcIWBoFTL"
      },
      "source": [
        "At this point, I still wanted to double-check that taking this route of extracting all of the token features for `[CLS]` and passing it through the \"Pooler\" resulted in close to the same output as using simply the `sentence_representation` (pooling all the tokens).\n",
        "\n",
        "I used the `allclose` function, whose documentation can be found [here](https://numpy.org/doc/1.18/reference/generated/numpy.allclose.html), to verify this:"
      ]
    },
    {
      "cell_type": "code",
      "metadata": {
        "id": "L0cjv9IMoCyY",
        "colab": {
          "base_uri": "https://localhost:8080/"
        },
        "outputId": "71f88710-0529-4c32-8127-faf009773676"
      },
      "source": [
        "np.allclose(pooled_outputs, sentence_representation)"
      ],
      "execution_count": null,
      "outputs": [
        {
          "output_type": "execute_result",
          "data": {
            "text/plain": [
              "True"
            ]
          },
          "metadata": {},
          "execution_count": 35
        }
      ]
    },
    {
      "cell_type": "markdown",
      "metadata": {
        "id": "FDQc9ZhgoJkW"
      },
      "source": [
        "### Intent Classifications\n",
        "\n",
        "Now, I proceeded to build and train a **sequence classification model** to predict the **intent class** of voice commands.\n",
        "\n",
        "At this point, I was only considering the pooled sentence features and ignoring the token-wise features.\n",
        "\n",
        "Documentation that I referred to: [Dropout](https://www.tensorflow.org/api_docs/python/tf/keras/layers/Dropout) and [Dense](https://www.tensorflow.org/api_docs/python/tf/keras/layers/Dense) layers."
      ]
    },
    {
      "cell_type": "code",
      "metadata": {
        "id": "P2Ss1ZgV27Si"
      },
      "source": [
        "import tensorflow as tf\n",
        "from transformers import TFBertModel\n",
        "from tensorflow.keras.layers import Dropout, Dense, GlobalAveragePooling1D\n",
        "from tensorflow.keras.optimizers import Adam\n",
        "from tensorflow.keras.losses import SparseCategoricalCrossentropy\n",
        "from tensorflow.keras.metrics import SparseCategoricalAccuracy\n",
        "\n",
        "\n",
        "class IntentClassificationModel(tf.keras.Model):\n",
        "\n",
        "    def __init__(self, intent_num_labels=None,\n",
        "                 dropout_prob=0.1):\n",
        "        super().__init__(name=\"intent_classifier\")\n",
        "\n",
        "        # Loading the pretrained BERT model in the constructor\n",
        "        self.bert = base_bert_model\n",
        "\n",
        "        # Specifying the dropout to prevent model overfitting\n",
        "        self.dropout = Dropout(dropout_prob)\n",
        "\n",
        "        # Defining a Dense classification layer which will compute the intent for each sequence in a batch; the number of\n",
        "        # output classes is given by the intent_num_labels parameter.\n",
        "        self.intent_classifier = Dense(intent_num_labels)\n",
        "\n",
        "        # Note to self: currently using the default linear activation (no softmax) to compute logits\n",
        "        # --> softmax normalization will be computed in the loss function instead of the model\n",
        "\n",
        "    def call(self, inputs, **kwargs):\n",
        "        # Using the pretrained model to extract features from the encoded inputs:\n",
        "        tokens_output, pooled_output = self.bert(inputs, **kwargs, return_dict=False)\n",
        "\n",
        "        # Second output of the main BERT layer has shape (batch_size, output_dim) and gives the pooled representation\n",
        "        # for the full sequence (from the hidden state corresponding to [CLS])\n",
        "        pooled_output = self.dropout(pooled_output, \\\n",
        "                                     training=kwargs.get(\"training\", False))\n",
        "\n",
        "        #Using classifier layer to compute logits from pooled features\n",
        "        intent_logits = self.intent_classifier(pooled_output)\n",
        "\n",
        "        return intent_logits\n",
        "\n",
        "# Instantiation of IntentClassificationModel; note: switched optimizing function to Adam\n",
        "intent_model = IntentClassificationModel(intent_num_labels=len(intent_map))\n",
        "\n",
        "intent_model.compile(optimizer=Adam(learning_rate=3e-5, epsilon=1e-08),\n",
        "                     loss=SparseCategoricalCrossentropy(from_logits=True),\n",
        "                     metrics=[SparseCategoricalAccuracy('accuracy')], run_eagerly=True)"
      ],
      "execution_count": null,
      "outputs": []
    },
    {
      "cell_type": "code",
      "metadata": {
        "id": "FjHVILozos-K",
        "colab": {
          "base_uri": "https://localhost:8080/"
        },
        "outputId": "9de0b784-5698-4dc1-9f7f-59e2bc59dc71"
      },
      "source": [
        "# Training the model\n",
        "history = intent_model.fit(encoded_train[\"input_ids\"], intent_train, epochs=1, batch_size=32, \\\n",
        "                           validation_data=(encoded_valid[\"input_ids\"], intent_valid))"
      ],
      "execution_count": null,
      "outputs": [
        {
          "output_type": "stream",
          "name": "stdout",
          "text": [
            "409/409 [==============================] - 236s 576ms/step - loss: 0.2730 - accuracy: 0.9065 - val_loss: 0.0526 - val_accuracy: 0.9857\n"
          ]
        }
      ]
    },
    {
      "cell_type": "markdown",
      "metadata": {
        "id": "vr_1B13Xo8st"
      },
      "source": [
        "#### Softmax\n",
        "\n",
        "I realized that the classification model outputs **logits** and we need the **probabilities** of each of the 7 classes being the true intent label.\n",
        "\n",
        "As a refresher, the softmax function turns an input vector of K real numbers into a normalized probability distribution consisting of K probabilities, proportional to the exponentials of the input numbers.\n",
        "\n",
        "<img src=\"https://miro.medium.com/max/1812/1*670CdxchunD-yAuUWdI7Bw.png\" width=400>\n",
        "\n",
        "For my model, the final **softmax** normalization layer is included in the loss function instead of the model directly.\n",
        "\n",
        "This is why I had to configure the loss function `SparseCategoricalCrossentropy(from_logits=True)` accordingly above."
      ]
    },
    {
      "cell_type": "markdown",
      "metadata": {
        "id": "H8VnzpgMo_Jf"
      },
      "source": [
        "### Classification\n",
        "\n",
        "My last step to making predictions was to write a `classify` function that would use the `tokenizer` (from *Tokenize the Data*) and the `intent_model` (from just the previous cell).\n",
        "\n",
        "My main objective was to simply choose which of the 7 classes had the highest probability after the softmax."
      ]
    },
    {
      "cell_type": "code",
      "metadata": {
        "id": "sE9q5SL4o8-w"
      },
      "source": [
        "# Note: classification takes a voice command as input, as well as the 7 possible classes (intent_names), and uses the BERT\n",
        "# tokenizer and the intent_model\n",
        "def classify(text, intent_names):\n",
        "    inputs = tf.constant(tokenizer.encode(text))[None, :]  # batch_size = 1\n",
        "    class_id = intent_model(inputs).numpy().argmax(axis=1)[0]\n",
        "    return intent_names[class_id]"
      ],
      "execution_count": null,
      "outputs": []
    },
    {
      "cell_type": "markdown",
      "metadata": {
        "id": "pzNCHZycpC0J"
      },
      "source": [
        "Here are some examples of how my classify function works on some commands:"
      ]
    },
    {
      "cell_type": "code",
      "metadata": {
        "id": "vh5Yj-8VpJag",
        "colab": {
          "base_uri": "https://localhost:8080/",
          "height": 36
        },
        "outputId": "ca6677dc-b691-4e4b-8705-807b00c20f2c"
      },
      "source": [
        "classify(\"Book a table for two at La Tour d'Argent for Friday night.\", intent_names)"
      ],
      "execution_count": null,
      "outputs": [
        {
          "output_type": "execute_result",
          "data": {
            "text/plain": [
              "'BookRestaurant'"
            ],
            "application/vnd.google.colaboratory.intrinsic+json": {
              "type": "string"
            }
          },
          "metadata": {},
          "execution_count": 39
        }
      ]
    },
    {
      "cell_type": "code",
      "metadata": {
        "id": "IVO_ZZehpGQo",
        "colab": {
          "base_uri": "https://localhost:8080/",
          "height": 36
        },
        "outputId": "b588bd7b-9d07-4085-d3eb-2617d75f6b6b"
      },
      "source": [
        "classify(\"I would like to listen to Anima by Thom Yorke.\", intent_names)"
      ],
      "execution_count": null,
      "outputs": [
        {
          "output_type": "execute_result",
          "data": {
            "text/plain": [
              "'PlayMusic'"
            ],
            "application/vnd.google.colaboratory.intrinsic+json": {
              "type": "string"
            }
          },
          "metadata": {},
          "execution_count": 40
        }
      ]
    },
    {
      "cell_type": "code",
      "metadata": {
        "id": "vuR4AA4upKUU",
        "colab": {
          "base_uri": "https://localhost:8080/",
          "height": 36
        },
        "outputId": "bdc1b4a0-8d2e-45b9-83b1-6db212550cf7"
      },
      "source": [
        "classify(\"Will it snow tomorrow in Saclay?\", intent_names)"
      ],
      "execution_count": null,
      "outputs": [
        {
          "output_type": "execute_result",
          "data": {
            "text/plain": [
              "'GetWeather'"
            ],
            "application/vnd.google.colaboratory.intrinsic+json": {
              "type": "string"
            }
          },
          "metadata": {},
          "execution_count": 41
        }
      ]
    },
    {
      "cell_type": "code",
      "metadata": {
        "id": "b3JO9E3spNI4",
        "colab": {
          "base_uri": "https://localhost:8080/",
          "height": 36
        },
        "outputId": "d668c7cd-a4ca-46c8-d97d-3e33e0d19b2d"
      },
      "source": [
        "classify(\"Where can I see to the last Star Wars near Odéon tonight?\", intent_names)"
      ],
      "execution_count": null,
      "outputs": [
        {
          "output_type": "execute_result",
          "data": {
            "text/plain": [
              "'GetWeather'"
            ],
            "application/vnd.google.colaboratory.intrinsic+json": {
              "type": "string"
            }
          },
          "metadata": {},
          "execution_count": 42
        }
      ]
    },
    {
      "cell_type": "markdown",
      "metadata": {
        "id": "fqmRD5-epOxl"
      },
      "source": [
        "Model Accuracy Check: 98% accuracy on the validation set after training for only 1 epoch."
      ]
    },
    {
      "cell_type": "markdown",
      "metadata": {
        "id": "rfyKGhq5pRjQ"
      },
      "source": [
        "#### Error Analysis\n",
        "\n",
        "Here is a brute force search I performed through the testing set to qualitatively analyze the types of mistakes that my `intent_model` was making, albeit its very high accuracy.\n"
      ]
    },
    {
      "cell_type": "code",
      "metadata": {
        "id": "RMiCU58HpPRa",
        "colab": {
          "base_uri": "https://localhost:8080/"
        },
        "outputId": "e196f7b3-0c8a-4a5c-cd54-7da6b00c688c"
      },
      "source": [
        "# Looping through each row in the pandas DF for the testing set,\n",
        "# and printing the sequence, predicted label, and correct label if the classifier failed to predict\n",
        "# the correct intent label\n",
        "\n",
        "# Output limited to only the first 20 errors\n",
        "\n",
        "# Shuffling the dataframe (to look at diverse samples):\n",
        "df_test = df_test.sample(frac=1).reset_index(drop=True)\n",
        "\n",
        "error_count = 0\n",
        "for i in range(len(df_test)):\n",
        "  words = \" \".join(df_test[i:i+1][\"words\"].to_string().split(\" \")[4:])\n",
        "  predicted = classify(words, intent_names)\n",
        "  true = df_test[i:i+1][\"intent_label\"].to_string().split(\" \")[-1]\n",
        "\n",
        "  if predicted != true:\n",
        "    error_count += 1\n",
        "    print(\"Incorrectly predicted {} but the correct label is {} for the sequence {}.\" \\\n",
        "          .format(predicted, true, words))\n",
        "  if error_count == 20:\n",
        "    break"
      ],
      "execution_count": null,
      "outputs": [
        {
          "output_type": "stream",
          "name": "stdout",
          "text": [
            "Incorrectly predicted GetWeather but the correct label is SearchScreeningEvent for the sequence Can you check the timings for Super Sweet 16: ....\n",
            "Incorrectly predicted SearchCreativeWork but the correct label is AddToPlaylist for the sequence Onto jerry's Classical Moments in Movies , ple....\n",
            "Incorrectly predicted GetWeather but the correct label is SearchScreeningEvent for the sequence Check the timings for Snowbound at the closest....\n",
            "Incorrectly predicted SearchCreativeWork but the correct label is RateBook for the sequence Give one start to the current book.\n",
            "Incorrectly predicted SearchCreativeWork but the correct label is SearchScreeningEvent for the sequence I want to see Outcast ..\n",
            "Incorrectly predicted SearchCreativeWork but the correct label is SearchScreeningEvent for the sequence Show the Sexy Dance 2 times at the closest mov....\n",
            "Incorrectly predicted AddToPlaylist but the correct label is PlayMusic for the sequence Put What Color Is Your Sky by Alana Davis on t....\n",
            "Incorrectly predicted SearchCreativeWork but the correct label is SearchScreeningEvent for the sequence I want to see Fear Chamber ..\n",
            "Incorrectly predicted SearchCreativeWork but the correct label is SearchScreeningEvent for the sequence I want to see Medal for the General.\n",
            "Incorrectly predicted SearchCreativeWork but the correct label is SearchScreeningEvent for the sequence i want to see I Dream of Jeanie in a movie the....\n",
            "Incorrectly predicted SearchCreativeWork but the correct label is RateBook for the sequence Reminiscences of the Anti-Japanese Guerillas c....\n",
            "Incorrectly predicted SearchCreativeWork but the correct label is AddToPlaylist for the sequence Can you put the artist Giovanni Giacomo Gastol....\n",
            "Incorrectly predicted SearchCreativeWork but the correct label is SearchScreeningEvent for the sequence i want to see JLA Adventures: Trapped In Time.\n",
            "Incorrectly predicted SearchCreativeWork but the correct label is SearchScreeningEvent for the sequence I want to see Shattered Image ..\n",
            "Incorrectly predicted SearchCreativeWork but the correct label is RateBook for the sequence Give A Brief Stop on the Road from Auschwitz 1....\n"
          ]
        }
      ]
    },
    {
      "cell_type": "markdown",
      "metadata": {
        "id": "ABkUb5k6pYUr"
      },
      "source": [
        "At this point, I created this graphic to plan and outline the structure for the overall model:\n",
        "\n",
        "\n",
        "![Screenshot 2023-01-04 at 10.58.10 PM.png](data:image/png;base64,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)"
      ]
    }
  ]
}